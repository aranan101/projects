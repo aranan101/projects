{
 "cells": [
  {
   "cell_type": "code",
   "execution_count": 55,
   "id": "inappropriate-opinion",
   "metadata": {},
   "outputs": [],
   "source": [
    "from bs4 import BeautifulSoup \n",
    "import requests \n",
    "import pandas as pd "
   ]
  },
  {
   "cell_type": "code",
   "execution_count": 73,
   "id": "bulgarian-disco",
   "metadata": {},
   "outputs": [],
   "source": [
    "# get html texts from relevant websites and initialize datastructure \n",
    "nber_page = requests.get(\"https://www.nber.org/career-resources/research-assistant-positions-not-nber\").text\n",
    "nber_html = BeautifulSoup(nber_page, \"lxml\")\n",
    "job_listing = []\n",
    "\n",
    "# get nber predoc fellowships \n",
    "main_text = nber_html.find(\"div\", class_ = \"page-header__intro-inner\")\n",
    "for p in main_text.find_all(\"p\"): \n",
    "    if p.em != None:\n",
    "        if \"predoc\" in p.text.lower() or \"pre-doc\" in p.text.lower():\n",
    "            job_listing.append([p.em.text, p.text, p.a.get(\"href\")])\n"
   ]
  },
  {
   "cell_type": "code",
   "execution_count": 74,
   "id": "coordinate-allen",
   "metadata": {},
   "outputs": [],
   "source": [
    "\n"
   ]
  }
 ],
 "metadata": {
  "kernelspec": {
   "display_name": "Python 3",
   "language": "python",
   "name": "python3"
  },
  "language_info": {
   "codemirror_mode": {
    "name": "ipython",
    "version": 3
   },
   "file_extension": ".py",
   "mimetype": "text/x-python",
   "name": "python",
   "nbconvert_exporter": "python",
   "pygments_lexer": "ipython3",
   "version": "3.8.5"
  }
 },
 "nbformat": 4,
 "nbformat_minor": 5
}
